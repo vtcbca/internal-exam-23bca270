{
 "cells": [
  {
   "cell_type": "markdown",
   "id": "8efa0e66-35f2-448c-96b8-4b9122c301f7",
   "metadata": {},
   "source": [
    "## Create table cricketer(cid, cname, match, run) and insert 8 players records. Print player records with average.  and write this data into player.csv file. Do all this task from python."
   ]
  },
  {
   "cell_type": "code",
   "execution_count": 1,
   "id": "32b6cbc7-e421-4e9f-b370-7f6cf0baab93",
   "metadata": {},
   "outputs": [],
   "source": [
    "import sqlite3 as sq"
   ]
  },
  {
   "cell_type": "code",
   "execution_count": 2,
   "id": "c82de6d3-5125-40cc-b803-610fb62335b8",
   "metadata": {},
   "outputs": [],
   "source": [
    "con=sq.connect(\"C:\\\\Users\\\\MCA\\\\Desktop\\\\23BCA270\\\\sqlite-tools-win-x64-3460000\\\\data\\\\player.db\")"
   ]
  },
  {
   "cell_type": "code",
   "execution_count": 3,
   "id": "892bbda9-8fdc-47b6-a10d-346045deed3f",
   "metadata": {},
   "outputs": [],
   "source": [
    "cur=con.cursor()"
   ]
  },
  {
   "cell_type": "code",
   "execution_count": 4,
   "id": "1d13e28b-6660-4f43-b248-edd9785a7ae2",
   "metadata": {},
   "outputs": [],
   "source": [
    "q=\"create table if not exists cricketerr(cid, cname, match, run)\""
   ]
  },
  {
   "cell_type": "code",
   "execution_count": 5,
   "id": "ec38ffdd-ca5d-46e7-9bc2-af7b11b1f7a0",
   "metadata": {},
   "outputs": [
    {
     "data": {
      "text/plain": [
       "<sqlite3.Cursor at 0x1ebe9ff7490>"
      ]
     },
     "execution_count": 5,
     "metadata": {},
     "output_type": "execute_result"
    }
   ],
   "source": [
    "cur.execute(q)"
   ]
  },
  {
   "cell_type": "code",
   "execution_count": 6,
   "id": "4f81d3f2-a6a3-46cb-9451-eafaeb6df381",
   "metadata": {},
   "outputs": [
    {
     "data": {
      "text/plain": [
       "<function Connection.commit>"
      ]
     },
     "execution_count": 6,
     "metadata": {},
     "output_type": "execute_result"
    }
   ],
   "source": [
    "con.commit"
   ]
  },
  {
   "cell_type": "markdown",
   "id": "80470411-892e-46be-a3ae-3ad657a0a7e8",
   "metadata": {},
   "source": [
    "## Insert Records"
   ]
  },
  {
   "cell_type": "code",
   "execution_count": 7,
   "id": "ec48467a-f26e-4429-bcf5-250c4ad415ee",
   "metadata": {},
   "outputs": [],
   "source": [
    "cur=con.cursor()"
   ]
  },
  {
   "cell_type": "code",
   "execution_count": 8,
   "id": "334465ff-85b5-48d6-87fb-8de5abfb05d6",
   "metadata": {},
   "outputs": [
    {
     "data": {
      "text/plain": [
       "<sqlite3.Cursor at 0x1ebe9ff79d0>"
      ]
     },
     "execution_count": 8,
     "metadata": {},
     "output_type": "execute_result"
    }
   ],
   "source": [
    "cur.execute(\"insert into cricketerr values(1,'Rohit Sharma',250,18000)\")"
   ]
  },
  {
   "cell_type": "code",
   "execution_count": 9,
   "id": "ef2b2401-c45b-44bb-8f34-2c89a1286202",
   "metadata": {},
   "outputs": [
    {
     "data": {
      "text/plain": [
       "<sqlite3.Cursor at 0x1ebe9ff79d0>"
      ]
     },
     "execution_count": 9,
     "metadata": {},
     "output_type": "execute_result"
    }
   ],
   "source": [
    "cur.execute(\"insert into cricketerr values(2,'Sachin Tendulkar',452,18426)\")"
   ]
  },
  {
   "cell_type": "code",
   "execution_count": 10,
   "id": "a4a8d773-70b3-4f8f-9727-fccbd7ad2a8d",
   "metadata": {},
   "outputs": [
    {
     "data": {
      "text/plain": [
       "<sqlite3.Cursor at 0x1ebe9ff79d0>"
      ]
     },
     "execution_count": 10,
     "metadata": {},
     "output_type": "execute_result"
    }
   ],
   "source": [
    "cur.execute(\"insert into cricketerr values(3,'Rahul Dravid',286,13228)\")"
   ]
  },
  {
   "cell_type": "code",
   "execution_count": 11,
   "id": "5fea6c59-e902-452f-bc5d-a4bca3b07e59",
   "metadata": {},
   "outputs": [
    {
     "data": {
      "text/plain": [
       "<sqlite3.Cursor at 0x1ebe9ff79d0>"
      ]
     },
     "execution_count": 11,
     "metadata": {},
     "output_type": "execute_result"
    }
   ],
   "source": [
    "cur.execute(\"insert into cricketerr values(4,'Sunil Gavaskar',217,10112)\")"
   ]
  },
  {
   "cell_type": "code",
   "execution_count": 12,
   "id": "ff1cc48c-1fcc-48eb-bebb-981ee49bae77",
   "metadata": {},
   "outputs": [
    {
     "data": {
      "text/plain": [
       "<sqlite3.Cursor at 0x1ebe9ff79d0>"
      ]
     },
     "execution_count": 12,
     "metadata": {},
     "output_type": "execute_result"
    }
   ],
   "source": [
    "cur.execute(\"insert into cricketerr values(5,'VVS Laxman',134,8781)\")"
   ]
  },
  {
   "cell_type": "code",
   "execution_count": 13,
   "id": "aa03fc12-e0d0-4d3e-bd95-9dbbf301174b",
   "metadata": {},
   "outputs": [
    {
     "data": {
      "text/plain": [
       "<sqlite3.Cursor at 0x1ebe9ff79d0>"
      ]
     },
     "execution_count": 13,
     "metadata": {},
     "output_type": "execute_result"
    }
   ],
   "source": [
    "cur.execute(\"insert into cricketerr values(6,'Virender Sehwag',180,8586)\")"
   ]
  },
  {
   "cell_type": "code",
   "execution_count": 14,
   "id": "767d4f5e-43fc-4c1b-a06b-d2f4898194d8",
   "metadata": {},
   "outputs": [
    {
     "data": {
      "text/plain": [
       "<sqlite3.Cursor at 0x1ebe9ff79d0>"
      ]
     },
     "execution_count": 14,
     "metadata": {},
     "output_type": "execute_result"
    }
   ],
   "source": [
    "cur.execute(\"insert into cricketerr values(7,'Dilip Vengsarkar',116,6868)\")"
   ]
  },
  {
   "cell_type": "code",
   "execution_count": 15,
   "id": "e865c492-3273-4f05-b7bf-8a5ec8aaa3e4",
   "metadata": {},
   "outputs": [
    {
     "data": {
      "text/plain": [
       "<sqlite3.Cursor at 0x1ebe9ff79d0>"
      ]
     },
     "execution_count": 15,
     "metadata": {},
     "output_type": "execute_result"
    }
   ],
   "source": [
    "cur.execute(\"insert into cricketerr values(8,'Kapil Dev',184,5248)\")"
   ]
  },
  {
   "cell_type": "code",
   "execution_count": 16,
   "id": "06aa714e-a809-4711-ab4c-9be7b95476ac",
   "metadata": {},
   "outputs": [
    {
     "data": {
      "text/plain": [
       "<function Connection.commit>"
      ]
     },
     "execution_count": 16,
     "metadata": {},
     "output_type": "execute_result"
    }
   ],
   "source": [
    "con.commit"
   ]
  },
  {
   "cell_type": "markdown",
   "id": "4514a359-11b8-4be9-8734-d09dca9eb90c",
   "metadata": {},
   "source": [
    "## Print player records with average"
   ]
  },
  {
   "cell_type": "code",
   "execution_count": 22,
   "id": "fd7c2038-9209-4611-ab0d-23f499d2f880",
   "metadata": {},
   "outputs": [
    {
     "name": "stdout",
     "output_type": "stream",
     "text": [
      "[('Rohit Sharma', 250, 18000, 144.0), ('Sachin Tendulkar', 452, 18426, 81.53097345132744), ('Rahul Dravid', 286, 13228, 92.5034965034965), ('Sunil Gavaskar', 217, 10112, 93.19815668202764), ('VVS Laxman', 134, 8781, 131.0597014925373), ('Virender Sehwag', 180, 8586, 95.4), ('Dilip Vengsarkar', 116, 6868, 118.41379310344827), ('Kapil Dev', 184, 5248, 57.04347826086956)]\n"
     ]
    }
   ],
   "source": [
    "cur.execute(\"select cname,match,run,(run * 2.0/match)as average from cricketerr\")\n",
    "rec=cur.fetchall()\n",
    "print(rec)"
   ]
  },
  {
   "cell_type": "code",
   "execution_count": 23,
   "id": "2423f517-e8ca-479f-aa10-b4ae8c78694b",
   "metadata": {},
   "outputs": [
    {
     "data": {
      "text/plain": [
       "<function Connection.commit>"
      ]
     },
     "execution_count": 23,
     "metadata": {},
     "output_type": "execute_result"
    }
   ],
   "source": [
    "con.commit"
   ]
  },
  {
   "cell_type": "markdown",
   "id": "d506f2df-4453-49c2-a134-2c34e243baed",
   "metadata": {},
   "source": [
    "## write this data into player.csv file"
   ]
  },
  {
   "cell_type": "code",
   "execution_count": 43,
   "id": "caf4d260-4734-4762-aa51-51ec8f9b6861",
   "metadata": {},
   "outputs": [],
   "source": [
    "import csv"
   ]
  },
  {
   "cell_type": "code",
   "execution_count": 44,
   "id": "e4a85a51-eeed-4a2c-a01b-ab4b6b44304b",
   "metadata": {},
   "outputs": [],
   "source": [
    "player=[\n",
    "        ('Rohit Sharma', 250, 18000, 144.0),\n",
    "        ('Sachin Tendulkar', 452, 18426, 81.53097345132744),\n",
    "        ('Rahul Dravid', 286, 13228, 92.5034965034965),\n",
    "        ('Sunil Gavaskar', 217, 10112, 93.19815668202764),\n",
    "        ('VVS Laxman', 134, 8781, 131.0597014925373),\n",
    "        ('Virender Sehwag', 180, 8586, 95.4),\n",
    "        ('Dilip Vengsarkar', 116, 6868, 118.41379310344827),\n",
    "        ('Kapil Dev', 184, 5248, 57.04347826086956)\n",
    "]"
   ]
  },
  {
   "cell_type": "code",
   "execution_count": 46,
   "id": "60a91414-aea3-4c85-8c32-20b12854f19f",
   "metadata": {},
   "outputs": [],
   "source": [
    "with open('D:/23BCA270/sqlite3/data/player.csv','w') as f:\n",
    "    w=csv.writer(f)\n",
    "    w.writerows(player)  \n",
    "    "
   ]
  },
  {
   "cell_type": "code",
   "execution_count": 47,
   "id": "54e3bae8-e5da-4cfd-af80-4f516abe5d71",
   "metadata": {},
   "outputs": [
    {
     "name": "stdout",
     "output_type": "stream",
     "text": [
      "['Rohit Sharma', '250', '18000', '144.0']\n",
      "[]\n",
      "['Sachin Tendulkar', '452', '18426', '81.53097345132744']\n",
      "[]\n",
      "['Rahul Dravid', '286', '13228', '92.5034965034965']\n",
      "[]\n",
      "['Sunil Gavaskar', '217', '10112', '93.19815668202764']\n",
      "[]\n",
      "['VVS Laxman', '134', '8781', '131.0597014925373']\n",
      "[]\n",
      "['Virender Sehwag', '180', '8586', '95.4']\n",
      "[]\n",
      "['Dilip Vengsarkar', '116', '6868', '118.41379310344827']\n",
      "[]\n",
      "['Kapil Dev', '184', '5248', '57.04347826086956']\n",
      "[]\n"
     ]
    }
   ],
   "source": [
    "with open('D:/23BCA270/sqlite3/data/player.csv','r') as f:\n",
    "    r=csv.reader(f)\n",
    "    for row in r:\n",
    "        print(row)"
   ]
  },
  {
   "cell_type": "code",
   "execution_count": null,
   "id": "651c3290-15d9-41b6-ab8a-1317bf6c7ee1",
   "metadata": {},
   "outputs": [],
   "source": []
  }
 ],
 "metadata": {
  "kernelspec": {
   "display_name": "Python 3 (ipykernel)",
   "language": "python",
   "name": "python3"
  },
  "language_info": {
   "codemirror_mode": {
    "name": "ipython",
    "version": 3
   },
   "file_extension": ".py",
   "mimetype": "text/x-python",
   "name": "python",
   "nbconvert_exporter": "python",
   "pygments_lexer": "ipython3",
   "version": "3.9.6"
  }
 },
 "nbformat": 4,
 "nbformat_minor": 5
}
